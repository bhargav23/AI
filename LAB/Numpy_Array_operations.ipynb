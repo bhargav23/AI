{
  "nbformat": 4,
  "nbformat_minor": 0,
  "metadata": {
    "colab": {
      "name": "Numpy Array operations.ipynb",
      "provenance": [],
      "authorship_tag": "ABX9TyOKB3gWhWgbNQTRzArQBpQV",
      "include_colab_link": true
    },
    "kernelspec": {
      "name": "python3",
      "display_name": "Python 3"
    }
  },
  "cells": [
    {
      "cell_type": "markdown",
      "metadata": {
        "id": "view-in-github",
        "colab_type": "text"
      },
      "source": [
        "<a href=\"https://colab.research.google.com/github/bhargav23/AI/blob/master/LAB/Numpy_Array_operations.ipynb\" target=\"_parent\"><img src=\"https://colab.research.google.com/assets/colab-badge.svg\" alt=\"Open In Colab\"/></a>"
      ]
    },
    {
      "cell_type": "markdown",
      "metadata": {
        "id": "XvSFap4_NE8m",
        "colab_type": "text"
      },
      "source": [
        "# In this lecture\n",
        "* Reshape an array\n",
        "* Numpy operations\n",
        "* Access elements from an array"
      ]
    },
    {
      "cell_type": "markdown",
      "metadata": {
        "id": "B25usDQ1NcAb",
        "colab_type": "text"
      },
      "source": [
        "## Reshaping an array\n",
        "reshape() - recasts an array to new shape without changing it’s data"
      ]
    },
    {
      "cell_type": "code",
      "metadata": {
        "id": "6fjhPAE2M8o5",
        "colab_type": "code",
        "colab": {}
      },
      "source": [
        "import numpy as np"
      ],
      "execution_count": 0,
      "outputs": []
    },
    {
      "cell_type": "code",
      "metadata": {
        "id": "foLg6mNtNwVx",
        "colab_type": "code",
        "colab": {}
      },
      "source": [
        "grid = np.arange(1,10).reshape(3,3)"
      ],
      "execution_count": 0,
      "outputs": []
    },
    {
      "cell_type": "code",
      "metadata": {
        "id": "-RUIFcbPN6LI",
        "colab_type": "code",
        "outputId": "55217866-625f-415f-a7d0-fdeeeee7b25a",
        "colab": {
          "base_uri": "https://localhost:8080/",
          "height": 68
        }
      },
      "source": [
        "grid"
      ],
      "execution_count": 3,
      "outputs": [
        {
          "output_type": "execute_result",
          "data": {
            "text/plain": [
              "array([[1, 2, 3],\n",
              "       [4, 5, 6],\n",
              "       [7, 8, 9]])"
            ]
          },
          "metadata": {
            "tags": []
          },
          "execution_count": 3
        }
      ]
    },
    {
      "cell_type": "markdown",
      "metadata": {
        "id": "AZ_GjKPlOAZa",
        "colab_type": "text"
      },
      "source": [
        "## Array dimensions\n",
        "* shape() - returns dimensions of an array\n",
        "* Syntax: array_name.shape()"
      ]
    },
    {
      "cell_type": "code",
      "metadata": {
        "id": "itaKWB0KN7g_",
        "colab_type": "code",
        "colab": {}
      },
      "source": [
        "a = np.array([[1, 2, 3], [4, 5, 6],  [7, 8, 9]])"
      ],
      "execution_count": 0,
      "outputs": []
    },
    {
      "cell_type": "code",
      "metadata": {
        "id": "TeAvQ0-EOXS3",
        "colab_type": "code",
        "outputId": "2012eda2-2d69-4042-ba19-fc0f4ec876cf",
        "colab": {
          "base_uri": "https://localhost:8080/",
          "height": 34
        }
      },
      "source": [
        "a.shape"
      ],
      "execution_count": 5,
      "outputs": [
        {
          "output_type": "execute_result",
          "data": {
            "text/plain": [
              "(3, 3)"
            ]
          },
          "metadata": {
            "tags": []
          },
          "execution_count": 5
        }
      ]
    },
    {
      "cell_type": "markdown",
      "metadata": {
        "id": "P0cKNnkoOoJo",
        "colab_type": "text"
      },
      "source": [
        "## Numpy addition\n",
        "* numpy.sum( )- returns sum of all array elements or sum of all array elements over a given axis \n",
        "* Syntax: numpy. sum(array, axis) \n",
        "In the above syntax, \n",
        "  * array() - input array \n",
        "  * axis()  - axis along which sum should be calculated \n"
      ]
    },
    {
      "cell_type": "code",
      "metadata": {
        "id": "XHJhOUFpOc_Q",
        "colab_type": "code",
        "colab": {}
      },
      "source": [
        "a = np.array([[1, 2, 3], [4, 5, 6],  [7, 8, 9]])"
      ],
      "execution_count": 0,
      "outputs": []
    },
    {
      "cell_type": "code",
      "metadata": {
        "id": "N4zl1_IAPnnD",
        "colab_type": "code",
        "outputId": "a45fd012-79a2-474f-da4f-b0e8723845e3",
        "colab": {
          "base_uri": "https://localhost:8080/",
          "height": 68
        }
      },
      "source": [
        "a"
      ],
      "execution_count": 7,
      "outputs": [
        {
          "output_type": "execute_result",
          "data": {
            "text/plain": [
              "array([[1, 2, 3],\n",
              "       [4, 5, 6],\n",
              "       [7, 8, 9]])"
            ]
          },
          "metadata": {
            "tags": []
          },
          "execution_count": 7
        }
      ]
    },
    {
      "cell_type": "markdown",
      "metadata": {
        "id": "jfqGcdwlPpAM",
        "colab_type": "text"
      },
      "source": [
        "**Calculate overall sum (axis None)**"
      ]
    },
    {
      "cell_type": "code",
      "metadata": {
        "id": "jKJftV97PYvn",
        "colab_type": "code",
        "outputId": "7c3f209a-dcc6-47ab-f37b-ccd9cdfc702c",
        "colab": {
          "base_uri": "https://localhost:8080/",
          "height": 34
        }
      },
      "source": [
        "a.sum(axis=None)"
      ],
      "execution_count": 8,
      "outputs": [
        {
          "output_type": "execute_result",
          "data": {
            "text/plain": [
              "45"
            ]
          },
          "metadata": {
            "tags": []
          },
          "execution_count": 8
        }
      ]
    },
    {
      "cell_type": "code",
      "metadata": {
        "id": "s4KPbO00PtML",
        "colab_type": "code",
        "outputId": "806c6cd5-fdb8-4153-d862-1bdeaa07e0e4",
        "colab": {
          "base_uri": "https://localhost:8080/",
          "height": 34
        }
      },
      "source": [
        "np.sum(a,axis=None)"
      ],
      "execution_count": 9,
      "outputs": [
        {
          "output_type": "execute_result",
          "data": {
            "text/plain": [
              "45"
            ]
          },
          "metadata": {
            "tags": []
          },
          "execution_count": 9
        }
      ]
    },
    {
      "cell_type": "markdown",
      "metadata": {
        "id": "s283aulaQEnk",
        "colab_type": "text"
      },
      "source": [
        "**Calculate sum along the column (axis=0)**"
      ]
    },
    {
      "cell_type": "code",
      "metadata": {
        "id": "wDn6KZJWP1Pu",
        "colab_type": "code",
        "outputId": "f45230ac-6312-4e7e-a5e4-cbccd61b1afb",
        "colab": {
          "base_uri": "https://localhost:8080/",
          "height": 34
        }
      },
      "source": [
        "np.sum(a,axis=0)"
      ],
      "execution_count": 10,
      "outputs": [
        {
          "output_type": "execute_result",
          "data": {
            "text/plain": [
              "array([12, 15, 18])"
            ]
          },
          "metadata": {
            "tags": []
          },
          "execution_count": 10
        }
      ]
    },
    {
      "cell_type": "markdown",
      "metadata": {
        "id": "EhQdl1YnQKpi",
        "colab_type": "text"
      },
      "source": [
        "**Calculate sum along the row (axis= 1)**"
      ]
    },
    {
      "cell_type": "code",
      "metadata": {
        "id": "9H6lfsXVP71f",
        "colab_type": "code",
        "outputId": "fff55775-e933-4ee4-a943-395f8f5e3ea2",
        "colab": {
          "base_uri": "https://localhost:8080/",
          "height": 34
        }
      },
      "source": [
        "np.sum(a,axis=1)"
      ],
      "execution_count": 11,
      "outputs": [
        {
          "output_type": "execute_result",
          "data": {
            "text/plain": [
              "array([ 6, 15, 24])"
            ]
          },
          "metadata": {
            "tags": []
          },
          "execution_count": 11
        }
      ]
    },
    {
      "cell_type": "markdown",
      "metadata": {
        "id": "JPbsa0SiQSvS",
        "colab_type": "text"
      },
      "source": [
        "### Numpy addition\n",
        "* numpy.add() - performs elementwise addition between two arrays\n",
        "* Syntax: numpy.add (array_1,array_2)"
      ]
    },
    {
      "cell_type": "code",
      "metadata": {
        "id": "6G6Vu9oCQR0Q",
        "colab_type": "code",
        "colab": {}
      },
      "source": [
        "a = np.array([[1, 2, 3], [4, 5, 6],  [7, 8, 9]])\n",
        "b = np.arange(11,20,).reshape(3,3)"
      ],
      "execution_count": 0,
      "outputs": []
    },
    {
      "cell_type": "code",
      "metadata": {
        "id": "DTMmHgjraZph",
        "colab_type": "code",
        "outputId": "dffbdec6-650f-40ce-b311-ed74022e545b",
        "colab": {
          "base_uri": "https://localhost:8080/",
          "height": 68
        }
      },
      "source": [
        "print(a)"
      ],
      "execution_count": 13,
      "outputs": [
        {
          "output_type": "stream",
          "text": [
            "[[1 2 3]\n",
            " [4 5 6]\n",
            " [7 8 9]]\n"
          ],
          "name": "stdout"
        }
      ]
    },
    {
      "cell_type": "code",
      "metadata": {
        "id": "THgdKLv9a-x_",
        "colab_type": "code",
        "outputId": "3e13994e-6275-44bd-c086-a3c427fc9c9a",
        "colab": {
          "base_uri": "https://localhost:8080/",
          "height": 68
        }
      },
      "source": [
        "print(b)"
      ],
      "execution_count": 14,
      "outputs": [
        {
          "output_type": "stream",
          "text": [
            "[[11 12 13]\n",
            " [14 15 16]\n",
            " [17 18 19]]\n"
          ],
          "name": "stdout"
        }
      ]
    },
    {
      "cell_type": "code",
      "metadata": {
        "id": "MkfD1o0QbAqA",
        "colab_type": "code",
        "outputId": "aa60388d-c477-437b-db11-cee9175594bc",
        "colab": {
          "base_uri": "https://localhost:8080/",
          "height": 68
        }
      },
      "source": [
        "np.add(a,b)"
      ],
      "execution_count": 15,
      "outputs": [
        {
          "output_type": "execute_result",
          "data": {
            "text/plain": [
              "array([[12, 14, 16],\n",
              "       [18, 20, 22],\n",
              "       [24, 26, 28]])"
            ]
          },
          "metadata": {
            "tags": []
          },
          "execution_count": 15
        }
      ]
    },
    {
      "cell_type": "markdown",
      "metadata": {
        "id": "d5cePEp0bJnl",
        "colab_type": "text"
      },
      "source": [
        "# Numpy multiplication\n",
        "* numpy.multipy() - performs elementwise addition between two arrays\n",
        "* Syntax: numpy.multipy(array_1,array_2)"
      ]
    },
    {
      "cell_type": "code",
      "metadata": {
        "id": "8I6oJO9KbJW2",
        "colab_type": "code",
        "outputId": "67c212a9-d017-4c8d-a098-86837349b664",
        "colab": {
          "base_uri": "https://localhost:8080/",
          "height": 68
        }
      },
      "source": [
        "np.multiply(a,b)"
      ],
      "execution_count": 16,
      "outputs": [
        {
          "output_type": "execute_result",
          "data": {
            "text/plain": [
              "array([[ 11,  24,  39],\n",
              "       [ 56,  75,  96],\n",
              "       [119, 144, 171]])"
            ]
          },
          "metadata": {
            "tags": []
          },
          "execution_count": 16
        }
      ]
    },
    {
      "cell_type": "code",
      "metadata": {
        "id": "QB2bzCvjbFCW",
        "colab_type": "code",
        "outputId": "4efb8fc1-11c5-40f5-f701-7ebb4d535492",
        "colab": {
          "base_uri": "https://localhost:8080/",
          "height": 68
        }
      },
      "source": [
        "np.subtract(a,b)"
      ],
      "execution_count": 17,
      "outputs": [
        {
          "output_type": "execute_result",
          "data": {
            "text/plain": [
              "array([[-10, -10, -10],\n",
              "       [-10, -10, -10],\n",
              "       [-10, -10, -10]])"
            ]
          },
          "metadata": {
            "tags": []
          },
          "execution_count": 17
        }
      ]
    },
    {
      "cell_type": "code",
      "metadata": {
        "id": "b8k_KJmBbs7S",
        "colab_type": "code",
        "outputId": "5cfa16d5-3def-4c60-df9e-7cab19458cb8",
        "colab": {
          "base_uri": "https://localhost:8080/",
          "height": 68
        }
      },
      "source": [
        "np.divide(a,b)"
      ],
      "execution_count": 18,
      "outputs": [
        {
          "output_type": "execute_result",
          "data": {
            "text/plain": [
              "array([[0.09090909, 0.16666667, 0.23076923],\n",
              "       [0.28571429, 0.33333333, 0.375     ],\n",
              "       [0.41176471, 0.44444444, 0.47368421]])"
            ]
          },
          "metadata": {
            "tags": []
          },
          "execution_count": 18
        }
      ]
    },
    {
      "cell_type": "code",
      "metadata": {
        "id": "Qp6UT8zibx7w",
        "colab_type": "code",
        "outputId": "2d3db6b6-166d-4766-f47e-af9ba316b30c",
        "colab": {
          "base_uri": "https://localhost:8080/",
          "height": 68
        }
      },
      "source": [
        "np.remainder(a,b)"
      ],
      "execution_count": 19,
      "outputs": [
        {
          "output_type": "execute_result",
          "data": {
            "text/plain": [
              "array([[1, 2, 3],\n",
              "       [4, 5, 6],\n",
              "       [7, 8, 9]])"
            ]
          },
          "metadata": {
            "tags": []
          },
          "execution_count": 19
        }
      ]
    },
    {
      "cell_type": "markdown",
      "metadata": {
        "id": "sD-C3DAAb6Rj",
        "colab_type": "text"
      },
      "source": [
        "## Accessing components of an array\n",
        "* Components of an array can be accessed using index number\n",
        "\n",
        "**Extract element with index (0, 1 ) from a**"
      ]
    },
    {
      "cell_type": "code",
      "metadata": {
        "id": "ZFmmhib-b2rt",
        "colab_type": "code",
        "outputId": "91c9c618-74a4-41f7-e624-8742ce602f5e",
        "colab": {
          "base_uri": "https://localhost:8080/",
          "height": 34
        }
      },
      "source": [
        "a[0,1]"
      ],
      "execution_count": 20,
      "outputs": [
        {
          "output_type": "execute_result",
          "data": {
            "text/plain": [
              "2"
            ]
          },
          "metadata": {
            "tags": []
          },
          "execution_count": 20
        }
      ]
    },
    {
      "cell_type": "markdown",
      "metadata": {
        "id": "mINp0Vq9cTgr",
        "colab_type": "text"
      },
      "source": [
        "**Extract elements from second and third row of array a**"
      ]
    },
    {
      "cell_type": "code",
      "metadata": {
        "id": "8RgjXm4ScPjl",
        "colab_type": "code",
        "outputId": "d92f7940-a067-49eb-e83a-8c7bdd57afa5",
        "colab": {
          "base_uri": "https://localhost:8080/",
          "height": 51
        }
      },
      "source": [
        "a[1:3]"
      ],
      "execution_count": 21,
      "outputs": [
        {
          "output_type": "execute_result",
          "data": {
            "text/plain": [
              "array([[4, 5, 6],\n",
              "       [7, 8, 9]])"
            ]
          },
          "metadata": {
            "tags": []
          },
          "execution_count": 21
        }
      ]
    },
    {
      "cell_type": "markdown",
      "metadata": {
        "id": "ShA_Sdupcb0b",
        "colab_type": "text"
      },
      "source": [
        "**Extract elements from first column of array a**"
      ]
    },
    {
      "cell_type": "code",
      "metadata": {
        "id": "PRgousmrcXLh",
        "colab_type": "code",
        "outputId": "f85fdde0-0c50-49d1-e6c4-e28c7743f6de",
        "colab": {
          "base_uri": "https://localhost:8080/",
          "height": 34
        }
      },
      "source": [
        "a[:,0]"
      ],
      "execution_count": 22,
      "outputs": [
        {
          "output_type": "execute_result",
          "data": {
            "text/plain": [
              "array([1, 4, 7])"
            ]
          },
          "metadata": {
            "tags": []
          },
          "execution_count": 22
        }
      ]
    },
    {
      "cell_type": "markdown",
      "metadata": {
        "id": "AfX8p751cn56",
        "colab_type": "text"
      },
      "source": [
        "**Extract elements the first row of array a**"
      ]
    },
    {
      "cell_type": "code",
      "metadata": {
        "id": "UGtnfr7scjYh",
        "colab_type": "code",
        "outputId": "bf5dc09e-9652-446a-92f9-79e20ffcdb28",
        "colab": {
          "base_uri": "https://localhost:8080/",
          "height": 34
        }
      },
      "source": [
        "a[0:1]"
      ],
      "execution_count": 23,
      "outputs": [
        {
          "output_type": "execute_result",
          "data": {
            "text/plain": [
              "array([[1, 2, 3]])"
            ]
          },
          "metadata": {
            "tags": []
          },
          "execution_count": 23
        }
      ]
    },
    {
      "cell_type": "markdown",
      "metadata": {
        "id": "YIBJQpmzc1o6",
        "colab_type": "text"
      },
      "source": [
        "## Subset of arrays\n",
        "* Subset a 2x2 array from the original array a\n",
        "* Consider the first two rows and columns from a"
      ]
    },
    {
      "cell_type": "code",
      "metadata": {
        "id": "UPlO50DtctxO",
        "colab_type": "code",
        "colab": {}
      },
      "source": [
        "a_sub = a[0:2,0:2]"
      ],
      "execution_count": 0,
      "outputs": []
    },
    {
      "cell_type": "code",
      "metadata": {
        "id": "v3KNlrINdX8R",
        "colab_type": "code",
        "outputId": "ea6e2adf-24e5-4dfe-f3eb-4af8908f0ad7",
        "colab": {
          "base_uri": "https://localhost:8080/",
          "height": 51
        }
      },
      "source": [
        "a_sub"
      ],
      "execution_count": 25,
      "outputs": [
        {
          "output_type": "execute_result",
          "data": {
            "text/plain": [
              "array([[1, 2],\n",
              "       [4, 5]])"
            ]
          },
          "metadata": {
            "tags": []
          },
          "execution_count": 25
        }
      ]
    },
    {
      "cell_type": "markdown",
      "metadata": {
        "id": "xD1U59Kcdk56",
        "colab_type": "text"
      },
      "source": [
        "**Here the value 1 should be updated to 1 2**"
      ]
    },
    {
      "cell_type": "code",
      "metadata": {
        "id": "jMsJN1Mxddj5",
        "colab_type": "code",
        "colab": {}
      },
      "source": [
        "a_sub[0,0]=12"
      ],
      "execution_count": 0,
      "outputs": []
    },
    {
      "cell_type": "code",
      "metadata": {
        "id": "ot7C_aPsdqut",
        "colab_type": "code",
        "outputId": "6ca88a9f-f708-4fd7-eb87-0f96e693aaa3",
        "colab": {
          "base_uri": "https://localhost:8080/",
          "height": 51
        }
      },
      "source": [
        "a_sub"
      ],
      "execution_count": 27,
      "outputs": [
        {
          "output_type": "execute_result",
          "data": {
            "text/plain": [
              "array([[12,  2],\n",
              "       [ 4,  5]])"
            ]
          },
          "metadata": {
            "tags": []
          },
          "execution_count": 27
        }
      ]
    },
    {
      "cell_type": "markdown",
      "metadata": {
        "id": "r0rDjM9Md9Lx",
        "colab_type": "text"
      },
      "source": [
        "**Modifying the subset will automatically update the original array as well**"
      ]
    },
    {
      "cell_type": "code",
      "metadata": {
        "id": "9BDNAlpydsMu",
        "colab_type": "code",
        "outputId": "2a1cfe58-d9c8-430f-d020-375d318cb31d",
        "colab": {
          "base_uri": "https://localhost:8080/",
          "height": 68
        }
      },
      "source": [
        "print(a)"
      ],
      "execution_count": 28,
      "outputs": [
        {
          "output_type": "stream",
          "text": [
            "[[12  2  3]\n",
            " [ 4  5  6]\n",
            " [ 7  8  9]]\n"
          ],
          "name": "stdout"
        }
      ]
    },
    {
      "cell_type": "markdown",
      "metadata": {
        "id": "2J8SLKZBeGiI",
        "colab_type": "text"
      },
      "source": [
        "## Modifying array using transpose()\n",
        "* numpy.transpose() permute the dimensions of array\n",
        "* Syntax: numpy.transpose (array)"
      ]
    },
    {
      "cell_type": "code",
      "metadata": {
        "id": "2r1GvGk5eB3M",
        "colab_type": "code",
        "outputId": "f9735422-0607-4343-d5e1-3bb2c9101db3",
        "colab": {
          "base_uri": "https://localhost:8080/",
          "height": 68
        }
      },
      "source": [
        "np.transpose(a)"
      ],
      "execution_count": 29,
      "outputs": [
        {
          "output_type": "execute_result",
          "data": {
            "text/plain": [
              "array([[12,  4,  7],\n",
              "       [ 2,  5,  8],\n",
              "       [ 3,  6,  9]])"
            ]
          },
          "metadata": {
            "tags": []
          },
          "execution_count": 29
        }
      ]
    },
    {
      "cell_type": "markdown",
      "metadata": {
        "id": "R4aUaPVgee9w",
        "colab_type": "text"
      },
      "source": [
        "## Modifying array using append()\n",
        "* append() - adds values at the end of the array\n",
        "* Syntax: numpy.append(array,axis)\n",
        "* Adding the new array to a as a row"
      ]
    },
    {
      "cell_type": "code",
      "metadata": {
        "id": "ZVjpwk6leZnr",
        "colab_type": "code",
        "outputId": "269b8738-ae0c-4343-bed8-6cb4b0289cc3",
        "colab": {
          "base_uri": "https://localhost:8080/",
          "height": 85
        }
      },
      "source": [
        "np.append(a,[[13,14,15]],axis=0)"
      ],
      "execution_count": 30,
      "outputs": [
        {
          "output_type": "execute_result",
          "data": {
            "text/plain": [
              "array([[12,  2,  3],\n",
              "       [ 4,  5,  6],\n",
              "       [ 7,  8,  9],\n",
              "       [13, 14, 15]])"
            ]
          },
          "metadata": {
            "tags": []
          },
          "execution_count": 30
        }
      ]
    },
    {
      "cell_type": "code",
      "metadata": {
        "id": "Ug3mm5SPe6KT",
        "colab_type": "code",
        "colab": {}
      },
      "source": [
        "col = [[16],[17],[18]]"
      ],
      "execution_count": 0,
      "outputs": []
    },
    {
      "cell_type": "code",
      "metadata": {
        "id": "uLigEC9CfL_3",
        "colab_type": "code",
        "outputId": "3f4714b8-f4dc-4961-df20-0442e1ec4827",
        "colab": {
          "base_uri": "https://localhost:8080/",
          "height": 34
        }
      },
      "source": [
        "col"
      ],
      "execution_count": 32,
      "outputs": [
        {
          "output_type": "execute_result",
          "data": {
            "text/plain": [
              "[[16], [17], [18]]"
            ]
          },
          "metadata": {
            "tags": []
          },
          "execution_count": 32
        }
      ]
    },
    {
      "cell_type": "code",
      "metadata": {
        "id": "GheFalW9fMwO",
        "colab_type": "code",
        "outputId": "6bbe0982-748a-40e2-8424-d2a5c8205be4",
        "colab": {
          "base_uri": "https://localhost:8080/",
          "height": 68
        }
      },
      "source": [
        "np.append(a,col,axis=1)"
      ],
      "execution_count": 33,
      "outputs": [
        {
          "output_type": "execute_result",
          "data": {
            "text/plain": [
              "array([[12,  2,  3, 16],\n",
              "       [ 4,  5,  6, 17],\n",
              "       [ 7,  8,  9, 18]])"
            ]
          },
          "metadata": {
            "tags": []
          },
          "execution_count": 33
        }
      ]
    },
    {
      "cell_type": "code",
      "metadata": {
        "id": "6AZUhcLYfV9i",
        "colab_type": "code",
        "colab": {}
      },
      "source": [
        "col = np.array([19,20,21]).reshape(3,1)"
      ],
      "execution_count": 0,
      "outputs": []
    },
    {
      "cell_type": "code",
      "metadata": {
        "id": "6q4ZJQoagQgU",
        "colab_type": "code",
        "colab": {
          "base_uri": "https://localhost:8080/",
          "height": 68
        },
        "outputId": "cb398fc1-2629-4873-d536-426fb8670773"
      },
      "source": [
        "print(col)"
      ],
      "execution_count": 35,
      "outputs": [
        {
          "output_type": "stream",
          "text": [
            "[[19]\n",
            " [20]\n",
            " [21]]\n"
          ],
          "name": "stdout"
        }
      ]
    },
    {
      "cell_type": "code",
      "metadata": {
        "id": "AO1hcTMpgda9",
        "colab_type": "code",
        "colab": {
          "base_uri": "https://localhost:8080/",
          "height": 68
        },
        "outputId": "09b1d761-26ba-407f-c3cd-98022d1a758f"
      },
      "source": [
        "np.append(a,col,axis=1)"
      ],
      "execution_count": 36,
      "outputs": [
        {
          "output_type": "execute_result",
          "data": {
            "text/plain": [
              "array([[12,  2,  3, 19],\n",
              "       [ 4,  5,  6, 20],\n",
              "       [ 7,  8,  9, 21]])"
            ]
          },
          "metadata": {
            "tags": []
          },
          "execution_count": 36
        }
      ]
    },
    {
      "cell_type": "markdown",
      "metadata": {
        "id": "-CraYsbIb5gI",
        "colab_type": "text"
      },
      "source": [
        "## Modifying array using insert( )\n",
        "* insert( ) - adds values at a given position and axis in an\n",
        "array\n",
        "* Syntax: numpy.insert(array,obj,values,axis)\n",
        "  * array: input array\n",
        "  * obj : index position\n",
        "  * values : array of values to be inserted\n",
        "  * axis : axis along which values should be insert"
      ]
    },
    {
      "cell_type": "code",
      "metadata": {
        "id": "xYz-8lPKfeVL",
        "colab_type": "code",
        "colab": {
          "base_uri": "https://localhost:8080/",
          "height": 68
        },
        "outputId": "0c565e36-6442-4233-aeef-55a9c7fa40be"
      },
      "source": [
        "a"
      ],
      "execution_count": 37,
      "outputs": [
        {
          "output_type": "execute_result",
          "data": {
            "text/plain": [
              "array([[12,  2,  3],\n",
              "       [ 4,  5,  6],\n",
              "       [ 7,  8,  9]])"
            ]
          },
          "metadata": {
            "tags": []
          },
          "execution_count": 37
        }
      ]
    },
    {
      "cell_type": "markdown",
      "metadata": {
        "id": "fSkdX3ieiEWz",
        "colab_type": "text"
      },
      "source": [
        "**Insert new array along row and at the 1st index position**"
      ]
    },
    {
      "cell_type": "code",
      "metadata": {
        "id": "n0CikIyQgMij",
        "colab_type": "code",
        "colab": {}
      },
      "source": [
        "a_ins = np.insert(a,1,[13,14,15],axis=0)"
      ],
      "execution_count": 0,
      "outputs": []
    },
    {
      "cell_type": "code",
      "metadata": {
        "id": "_VSTRUNCieLX",
        "colab_type": "code",
        "colab": {
          "base_uri": "https://localhost:8080/",
          "height": 85
        },
        "outputId": "957b5f46-e57f-4ee3-a404-832c4517aa11"
      },
      "source": [
        "print(a_ins)"
      ],
      "execution_count": 39,
      "outputs": [
        {
          "output_type": "stream",
          "text": [
            "[[12  2  3]\n",
            " [13 14 15]\n",
            " [ 4  5  6]\n",
            " [ 7  8  9]]\n"
          ],
          "name": "stdout"
        }
      ]
    },
    {
      "cell_type": "markdown",
      "metadata": {
        "id": "dcY0gPIwijhF",
        "colab_type": "text"
      },
      "source": [
        "## Modifying array using delete( )\n",
        "* delete ( )- removes values at a given position and axis in an array \n",
        "* Syntax: numpy.delete(array, obj, axis) \n",
        "  * array - input array \n",
        "  * obj - indicate array to be removed or it's position \n",
        "  * axis - axis along which array should be removed \n"
      ]
    },
    {
      "cell_type": "markdown",
      "metadata": {
        "id": "HJQ9Qh5cjOu-",
        "colab_type": "text"
      },
      "source": [
        "**Delete third row from the existing array a_ins**"
      ]
    },
    {
      "cell_type": "code",
      "metadata": {
        "id": "HI7Eq59KifxG",
        "colab_type": "code",
        "colab": {}
      },
      "source": [
        "a_del = np.delete(a_ins,2,axis=0)"
      ],
      "execution_count": 0,
      "outputs": []
    },
    {
      "cell_type": "code",
      "metadata": {
        "id": "3gcM4mgpjgM0",
        "colab_type": "code",
        "colab": {
          "base_uri": "https://localhost:8080/",
          "height": 68
        },
        "outputId": "2c484698-7fa5-4531-f1b5-f3de5bc588fa"
      },
      "source": [
        "a_del"
      ],
      "execution_count": 41,
      "outputs": [
        {
          "output_type": "execute_result",
          "data": {
            "text/plain": [
              "array([[12,  2,  3],\n",
              "       [13, 14, 15],\n",
              "       [ 7,  8,  9]])"
            ]
          },
          "metadata": {
            "tags": []
          },
          "execution_count": 41
        }
      ]
    },
    {
      "cell_type": "markdown",
      "metadata": {
        "id": "rhauMNHkjzus",
        "colab_type": "text"
      },
      "source": [
        "## Summary\n",
        "  * Reshape an array\n",
        "  * Numpy operations\n",
        "  * Accessing components\n",
        "  * Subset of arrays\n",
        "  * Modifying array"
      ]
    }
  ]
}