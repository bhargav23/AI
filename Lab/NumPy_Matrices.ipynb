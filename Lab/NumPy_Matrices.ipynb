{
  "nbformat": 4,
  "nbformat_minor": 0,
  "metadata": {
    "colab": {
      "name": "NumPy Matrices.ipynb",
      "provenance": [],
      "authorship_tag": "ABX9TyM5yV7SVVyqbagxQi/K46sL",
      "include_colab_link": true
    },
    "kernelspec": {
      "name": "python3",
      "display_name": "Python 3"
    }
  },
  "cells": [
    {
      "cell_type": "markdown",
      "metadata": {
        "id": "view-in-github",
        "colab_type": "text"
      },
      "source": [
        "<a href=\"https://colab.research.google.com/github/bhargav23/AI/blob/master/Lab/NumPy_Matrices.ipynb\" target=\"_parent\"><img src=\"https://colab.research.google.com/assets/colab-badge.svg\" alt=\"Open In Colab\"/></a>"
      ]
    },
    {
      "cell_type": "markdown",
      "metadata": {
        "id": "1ZNOHWUQoHz1",
        "colab_type": "text"
      },
      "source": [
        "# In this lecture\n",
        "  * Matrices\n",
        "    * Create matrices\n",
        "    * Dimensions\n",
        "    * Modifying matrices\n",
        "    * Accessing elements of a matrix\n",
        "    * Matrix operations\n",
        "\n",
        "## Matrices\n",
        "* Rectangular arrangement of numbers in rows and columns\n",
        "* Rows run horizontally and columns run vertically\n",
        "\n",
        "### Create a matrix\n",
        "* mitrix() - returns a matrix from an array type object or string of data \n",
        "* Syntax: numpy.matrix(data) \n"
      ]
    },
    {
      "cell_type": "code",
      "metadata": {
        "id": "X_f_cWY0kT6N",
        "colab_type": "code",
        "colab": {}
      },
      "source": [
        "import numpy as np "
      ],
      "execution_count": 0,
      "outputs": []
    },
    {
      "cell_type": "code",
      "metadata": {
        "id": "aZ8yrZwsxnN5",
        "colab_type": "code",
        "colab": {}
      },
      "source": [
        "a=np.matrix(\"1,2,3,4;4,5,6,7;7,8,9,10\") "
      ],
      "execution_count": 0,
      "outputs": []
    },
    {
      "cell_type": "code",
      "metadata": {
        "id": "Mk14L_jGx89N",
        "colab_type": "code",
        "colab": {
          "base_uri": "https://localhost:8080/",
          "height": 68
        },
        "outputId": "1310a783-b0eb-4811-882f-76f42720af0c"
      },
      "source": [
        "a"
      ],
      "execution_count": 3,
      "outputs": [
        {
          "output_type": "execute_result",
          "data": {
            "text/plain": [
              "matrix([[ 1,  2,  3,  4],\n",
              "        [ 4,  5,  6,  7],\n",
              "        [ 7,  8,  9, 10]])"
            ]
          },
          "metadata": {
            "tags": []
          },
          "execution_count": 3
        }
      ]
    },
    {
      "cell_type": "code",
      "metadata": {
        "id": "FOuX1DuEx9z-",
        "colab_type": "code",
        "colab": {}
      },
      "source": [
        "b=np.matrix([[ 1,  2,  3,  4], [ 4,  5,  6,  7],[ 7,  8,  9, 10]]) "
      ],
      "execution_count": 0,
      "outputs": []
    },
    {
      "cell_type": "code",
      "metadata": {
        "id": "S4VlzZxqyEhM",
        "colab_type": "code",
        "colab": {
          "base_uri": "https://localhost:8080/",
          "height": 68
        },
        "outputId": "ac642d93-071e-477e-f625-d84d93f21684"
      },
      "source": [
        "b"
      ],
      "execution_count": 5,
      "outputs": [
        {
          "output_type": "execute_result",
          "data": {
            "text/plain": [
              "matrix([[ 1,  2,  3,  4],\n",
              "        [ 4,  5,  6,  7],\n",
              "        [ 7,  8,  9, 10]])"
            ]
          },
          "metadata": {
            "tags": []
          },
          "execution_count": 5
        }
      ]
    },
    {
      "cell_type": "markdown",
      "metadata": {
        "id": "BztDnR7ayOiK",
        "colab_type": "text"
      },
      "source": [
        "### Matrix properties\n",
        "* shape( )- returns number of rows and columns from a matrix    \n",
        "* shape[0]- returns the number of rows \n",
        "* shape[1]- returns the number of columns \n",
        "* size( )- returns the number of elements from a matrix \n"
      ]
    },
    {
      "cell_type": "code",
      "metadata": {
        "id": "NH4pgZX3yF5h",
        "colab_type": "code",
        "colab": {
          "base_uri": "https://localhost:8080/",
          "height": 34
        },
        "outputId": "c54c62df-0023-4e2b-d26c-acc9c23cd392"
      },
      "source": [
        "a.shape"
      ],
      "execution_count": 6,
      "outputs": [
        {
          "output_type": "execute_result",
          "data": {
            "text/plain": [
              "(3, 4)"
            ]
          },
          "metadata": {
            "tags": []
          },
          "execution_count": 6
        }
      ]
    },
    {
      "cell_type": "code",
      "metadata": {
        "id": "bRf-ocUNygjP",
        "colab_type": "code",
        "colab": {
          "base_uri": "https://localhost:8080/",
          "height": 34
        },
        "outputId": "8723ae95-613d-43d1-cd53-e322d3bed59d"
      },
      "source": [
        "a.shape[0]"
      ],
      "execution_count": 7,
      "outputs": [
        {
          "output_type": "execute_result",
          "data": {
            "text/plain": [
              "3"
            ]
          },
          "metadata": {
            "tags": []
          },
          "execution_count": 7
        }
      ]
    },
    {
      "cell_type": "code",
      "metadata": {
        "id": "_nYyQy--yuCE",
        "colab_type": "code",
        "colab": {
          "base_uri": "https://localhost:8080/",
          "height": 34
        },
        "outputId": "5e25ec5a-a3bf-4718-f8b9-7ad8e9505a2c"
      },
      "source": [
        "a.shape[1]"
      ],
      "execution_count": 8,
      "outputs": [
        {
          "output_type": "execute_result",
          "data": {
            "text/plain": [
              "4"
            ]
          },
          "metadata": {
            "tags": []
          },
          "execution_count": 8
        }
      ]
    },
    {
      "cell_type": "code",
      "metadata": {
        "id": "bUvnw7rGy1Fe",
        "colab_type": "code",
        "colab": {
          "base_uri": "https://localhost:8080/",
          "height": 34
        },
        "outputId": "a6e8a233-f5da-4328-c0a9-feb1621713e2"
      },
      "source": [
        "a.size"
      ],
      "execution_count": 9,
      "outputs": [
        {
          "output_type": "execute_result",
          "data": {
            "text/plain": [
              "12"
            ]
          },
          "metadata": {
            "tags": []
          },
          "execution_count": 9
        }
      ]
    },
    {
      "cell_type": "markdown",
      "metadata": {
        "id": "Rq-S8XnIzIs5",
        "colab_type": "text"
      },
      "source": [
        "### Modifying matrix using insert() \n",
        "\n",
        "* insert- adds values at a given position and axis in a matrix \n",
        "* Syntax: numpy. insert (matrix, obj,values,axis) \n",
        "  * matrix - input matrix \n",
        "  * obj    - index position \n",
        "  * values - matrix of values to be inserted \n",
        "  * axis   - axis along which values should be insert \n",
        "\n",
        "**Adding the matrix 'col_new' as a new column to a**"
      ]
    },
    {
      "cell_type": "code",
      "metadata": {
        "id": "7JlptjID2GYX",
        "colab_type": "code",
        "colab": {
          "base_uri": "https://localhost:8080/",
          "height": 68
        },
        "outputId": "085a2590-7d95-42a4-d552-cfcb345e32d9"
      },
      "source": [
        "print(a)"
      ],
      "execution_count": 10,
      "outputs": [
        {
          "output_type": "stream",
          "text": [
            "[[ 1  2  3  4]\n",
            " [ 4  5  6  7]\n",
            " [ 7  8  9 10]]\n"
          ],
          "name": "stdout"
        }
      ]
    },
    {
      "cell_type": "code",
      "metadata": {
        "id": "L0gVM5hVzBm_",
        "colab_type": "code",
        "colab": {}
      },
      "source": [
        "col_new=np.matrix(\"2,3,4\") "
      ],
      "execution_count": 0,
      "outputs": []
    },
    {
      "cell_type": "code",
      "metadata": {
        "id": "5Gl8o0CQ1t_A",
        "colab_type": "code",
        "colab": {
          "base_uri": "https://localhost:8080/",
          "height": 34
        },
        "outputId": "3d56ecc2-c4db-4649-c02e-2dca96ee7b53"
      },
      "source": [
        "print(col_new) "
      ],
      "execution_count": 12,
      "outputs": [
        {
          "output_type": "stream",
          "text": [
            "[[2 3 4]]\n"
          ],
          "name": "stdout"
        }
      ]
    },
    {
      "cell_type": "code",
      "metadata": {
        "id": "ZgDEQvW61ldl",
        "colab_type": "code",
        "colab": {}
      },
      "source": [
        "a=np.insert(a,0,col_new,axis=1) "
      ],
      "execution_count": 0,
      "outputs": []
    },
    {
      "cell_type": "code",
      "metadata": {
        "id": "6e-xjzFd130L",
        "colab_type": "code",
        "colab": {
          "base_uri": "https://localhost:8080/",
          "height": 68
        },
        "outputId": "c6a51d40-b2ff-4c60-b404-e5b75c2b65d3"
      },
      "source": [
        "print(a)"
      ],
      "execution_count": 14,
      "outputs": [
        {
          "output_type": "stream",
          "text": [
            "[[ 2  1  2  3  4]\n",
            " [ 3  4  5  6  7]\n",
            " [ 4  7  8  9 10]]\n"
          ],
          "name": "stdout"
        }
      ]
    },
    {
      "cell_type": "markdown",
      "metadata": {
        "id": "nTtRLEt82Qpm",
        "colab_type": "text"
      },
      "source": [
        "**Adding the matrix ‘ row_new ’ as a new row to a**"
      ]
    },
    {
      "cell_type": "code",
      "metadata": {
        "id": "8Uo14PnR1-Y-",
        "colab_type": "code",
        "colab": {}
      },
      "source": [
        "row_new=np.matrix(\"11,12,13,14,15\") "
      ],
      "execution_count": 0,
      "outputs": []
    },
    {
      "cell_type": "code",
      "metadata": {
        "id": "aIIi3T7Z2mux",
        "colab_type": "code",
        "colab": {}
      },
      "source": [
        "a = np.insert(a,2,row_new,axis=0)"
      ],
      "execution_count": 0,
      "outputs": []
    },
    {
      "cell_type": "code",
      "metadata": {
        "id": "ytqduqDY2zwl",
        "colab_type": "code",
        "colab": {
          "base_uri": "https://localhost:8080/",
          "height": 85
        },
        "outputId": "59469962-0d60-4556-8913-8563ef538ac9"
      },
      "source": [
        "print(a)"
      ],
      "execution_count": 17,
      "outputs": [
        {
          "output_type": "stream",
          "text": [
            "[[ 2  1  2  3  4]\n",
            " [ 3  4  5  6  7]\n",
            " [11 12 13 14 15]\n",
            " [ 4  7  8  9 10]]\n"
          ],
          "name": "stdout"
        }
      ]
    },
    {
      "cell_type": "markdown",
      "metadata": {
        "id": "4oCLkpJo27sc",
        "colab_type": "text"
      },
      "source": [
        "### Modifying matrix using index\n",
        "* Elements of matrix can be modified using index number"
      ]
    },
    {
      "cell_type": "code",
      "metadata": {
        "id": "5KeclZOE3MtD",
        "colab_type": "code",
        "colab": {
          "base_uri": "https://localhost:8080/",
          "height": 85
        },
        "outputId": "91260bbd-5a0c-4a26-8978-4e48703f478a"
      },
      "source": [
        "print(a)"
      ],
      "execution_count": 18,
      "outputs": [
        {
          "output_type": "stream",
          "text": [
            "[[ 2  1  2  3  4]\n",
            " [ 3  4  5  6  7]\n",
            " [11 12 13 14 15]\n",
            " [ 4  7  8  9 10]]\n"
          ],
          "name": "stdout"
        }
      ]
    },
    {
      "cell_type": "code",
      "metadata": {
        "id": "IEAj6uKF3ON9",
        "colab_type": "code",
        "colab": {}
      },
      "source": [
        "a[1,1] = -3"
      ],
      "execution_count": 0,
      "outputs": []
    },
    {
      "cell_type": "code",
      "metadata": {
        "id": "4UDNg7nD3Q0g",
        "colab_type": "code",
        "colab": {
          "base_uri": "https://localhost:8080/",
          "height": 85
        },
        "outputId": "82700130-70c3-4cc7-b806-89659fe62347"
      },
      "source": [
        "print(a)"
      ],
      "execution_count": 20,
      "outputs": [
        {
          "output_type": "stream",
          "text": [
            "[[ 2  1  2  3  4]\n",
            " [ 3 -3  5  6  7]\n",
            " [11 12 13 14 15]\n",
            " [ 4  7  8  9 10]]\n"
          ],
          "name": "stdout"
        }
      ]
    },
    {
      "cell_type": "markdown",
      "metadata": {
        "id": "zlfPHEAj3Y6M",
        "colab_type": "text"
      },
      "source": [
        "### Accessing elements of matrix using index\n"
      ]
    },
    {
      "cell_type": "code",
      "metadata": {
        "id": "9CB4PC5h3X8r",
        "colab_type": "code",
        "colab": {
          "base_uri": "https://localhost:8080/",
          "height": 34
        },
        "outputId": "f71dac20-d668-4595-89f5-ae138cf6acac"
      },
      "source": [
        "a[:1] #Extract elements from second row of matrix a"
      ],
      "execution_count": 21,
      "outputs": [
        {
          "output_type": "execute_result",
          "data": {
            "text/plain": [
              "matrix([[2, 1, 2, 3, 4]])"
            ]
          },
          "metadata": {
            "tags": []
          },
          "execution_count": 21
        }
      ]
    },
    {
      "cell_type": "code",
      "metadata": {
        "id": "uaO42elD3SG8",
        "colab_type": "code",
        "colab": {
          "base_uri": "https://localhost:8080/",
          "height": 51
        },
        "outputId": "180a6828-dd6b-4020-bac6-d02de221edc9"
      },
      "source": [
        "a[1:3,1:3]"
      ],
      "execution_count": 22,
      "outputs": [
        {
          "output_type": "execute_result",
          "data": {
            "text/plain": [
              "matrix([[-3,  5],\n",
              "        [12, 13]])"
            ]
          },
          "metadata": {
            "tags": []
          },
          "execution_count": 22
        }
      ]
    },
    {
      "cell_type": "code",
      "metadata": {
        "id": "l_bsLqen3mGR",
        "colab_type": "code",
        "colab": {
          "base_uri": "https://localhost:8080/",
          "height": 85
        },
        "outputId": "e1334b77-dd72-4c98-f620-2b956e89d16f"
      },
      "source": [
        "a[:,2] #Extract elements from third column of matrix a"
      ],
      "execution_count": 23,
      "outputs": [
        {
          "output_type": "execute_result",
          "data": {
            "text/plain": [
              "matrix([[ 2],\n",
              "        [ 5],\n",
              "        [13],\n",
              "        [ 8]])"
            ]
          },
          "metadata": {
            "tags": []
          },
          "execution_count": 23
        }
      ]
    },
    {
      "cell_type": "code",
      "metadata": {
        "id": "es-y7nq03z57",
        "colab_type": "code",
        "colab": {
          "base_uri": "https://localhost:8080/",
          "height": 34
        },
        "outputId": "b16bc844-2376-4b5a-95ad-d5d26541bb0a"
      },
      "source": [
        "a[1,2] #Extract element with index ( 1 ,2) from a"
      ],
      "execution_count": 24,
      "outputs": [
        {
          "output_type": "execute_result",
          "data": {
            "text/plain": [
              "5"
            ]
          },
          "metadata": {
            "tags": []
          },
          "execution_count": 24
        }
      ]
    },
    {
      "cell_type": "markdown",
      "metadata": {
        "id": "BKyGzuR84Whf",
        "colab_type": "text"
      },
      "source": [
        "\n",
        "### Matrix addition\n",
        "* numpy.add()- performs elementwise addition between two matrices \n",
        "* Syntax: numpy.add(matrix 1,matrix 2) \n",
        "\n",
        "**Create two matrix A and B**\n",
        "\n"
      ]
    },
    {
      "cell_type": "code",
      "metadata": {
        "id": "kepfxPjy4DWN",
        "colab_type": "code",
        "colab": {}
      },
      "source": [
        "A = np.matrix(np.arange(0,20)).reshape(5,4)\n",
        "B = np.matrix(np.arange(20,40)).reshape(5,4) "
      ],
      "execution_count": 0,
      "outputs": []
    },
    {
      "cell_type": "code",
      "metadata": {
        "id": "YwlVTchh4x0t",
        "colab_type": "code",
        "colab": {
          "base_uri": "https://localhost:8080/",
          "height": 102
        },
        "outputId": "fbbc441d-fb11-49cd-a9f4-b2fd6f4d6a9d"
      },
      "source": [
        "print(A)"
      ],
      "execution_count": 26,
      "outputs": [
        {
          "output_type": "stream",
          "text": [
            "[[ 0  1  2  3]\n",
            " [ 4  5  6  7]\n",
            " [ 8  9 10 11]\n",
            " [12 13 14 15]\n",
            " [16 17 18 19]]\n"
          ],
          "name": "stdout"
        }
      ]
    },
    {
      "cell_type": "code",
      "metadata": {
        "id": "cIlhn21Y4zXW",
        "colab_type": "code",
        "colab": {
          "base_uri": "https://localhost:8080/",
          "height": 102
        },
        "outputId": "e1d8b42d-9d6a-4073-df0b-a6c5cc9fe821"
      },
      "source": [
        "print(B)"
      ],
      "execution_count": 27,
      "outputs": [
        {
          "output_type": "stream",
          "text": [
            "[[20 21 22 23]\n",
            " [24 25 26 27]\n",
            " [28 29 30 31]\n",
            " [32 33 34 35]\n",
            " [36 37 38 39]]\n"
          ],
          "name": "stdout"
        }
      ]
    },
    {
      "cell_type": "code",
      "metadata": {
        "id": "9Oqe3t0a41Tb",
        "colab_type": "code",
        "colab": {
          "base_uri": "https://localhost:8080/",
          "height": 102
        },
        "outputId": "cb6eac11-0d06-4412-ebe6-11f36ebba2ae"
      },
      "source": [
        "np.add(A,B)"
      ],
      "execution_count": 28,
      "outputs": [
        {
          "output_type": "execute_result",
          "data": {
            "text/plain": [
              "matrix([[20, 22, 24, 26],\n",
              "        [28, 30, 32, 34],\n",
              "        [36, 38, 40, 42],\n",
              "        [44, 46, 48, 50],\n",
              "        [52, 54, 56, 58]])"
            ]
          },
          "metadata": {
            "tags": []
          },
          "execution_count": 28
        }
      ]
    },
    {
      "cell_type": "markdown",
      "metadata": {
        "id": "M44y3ZIE5BVu",
        "colab_type": "text"
      },
      "source": [
        ""
      ]
    },
    {
      "cell_type": "markdown",
      "metadata": {
        "colab_type": "text",
        "id": "GmIQN2H75Bo0"
      },
      "source": [
        "\n",
        "### Matrix Subtraction\n",
        "* numpy.subtract()- performs elementwise subtraction between two matrices \n",
        "* Syntax: numpy.subtract(matrix_1,matrix_2) \n",
        "\n"
      ]
    },
    {
      "cell_type": "code",
      "metadata": {
        "id": "5Zk1uzsn46ak",
        "colab_type": "code",
        "colab": {
          "base_uri": "https://localhost:8080/",
          "height": 102
        },
        "outputId": "e556ce9b-4076-472a-eefb-e0eed952a93b"
      },
      "source": [
        "np.subtract(B,A)"
      ],
      "execution_count": 29,
      "outputs": [
        {
          "output_type": "execute_result",
          "data": {
            "text/plain": [
              "matrix([[20, 20, 20, 20],\n",
              "        [20, 20, 20, 20],\n",
              "        [20, 20, 20, 20],\n",
              "        [20, 20, 20, 20],\n",
              "        [20, 20, 20, 20]])"
            ]
          },
          "metadata": {
            "tags": []
          },
          "execution_count": 29
        }
      ]
    },
    {
      "cell_type": "markdown",
      "metadata": {
        "id": "JWBCACjS5Z0s",
        "colab_type": "text"
      },
      "source": [
        ""
      ]
    },
    {
      "cell_type": "markdown",
      "metadata": {
        "colab_type": "text",
        "id": "YUftu24L5Z-k"
      },
      "source": [
        "\n",
        "### Matrix multiplication\n",
        "* numpy.dot()- performs matrix multiplication between two matrices \n",
        "* Syntax: numpy.dot(matrix_1,matrix_2) \n",
        "\n",
        "\n",
        "\n"
      ]
    },
    {
      "cell_type": "code",
      "metadata": {
        "id": "mictnLtL5Pxt",
        "colab_type": "code",
        "colab": {
          "base_uri": "https://localhost:8080/",
          "height": 34
        },
        "outputId": "0a58c3d3-7390-433f-fd60-12aa275add36"
      },
      "source": [
        "# np.dot(A,B) \n",
        "'''\n",
        "For matrix multiplication,\n",
        "number of columns in\n",
        "matrix A should be equal to\n",
        "number of rows in matrix B\n",
        "'''"
      ],
      "execution_count": 30,
      "outputs": [
        {
          "output_type": "execute_result",
          "data": {
            "text/plain": [
              "'\\nFor matrix multiplication,\\nnumber of columns in\\nmatrix A should be equal to\\nnumber of rows in matrix B\\n'"
            ]
          },
          "metadata": {
            "tags": []
          },
          "execution_count": 30
        }
      ]
    },
    {
      "cell_type": "code",
      "metadata": {
        "id": "v4EvuIOq5wII",
        "colab_type": "code",
        "colab": {}
      },
      "source": [
        "C = np.transpose(B)\n",
        "#Transpose matrix B to make it 4 x 5 in dimension"
      ],
      "execution_count": 0,
      "outputs": []
    },
    {
      "cell_type": "code",
      "metadata": {
        "id": "NC4IcX5L6NPu",
        "colab_type": "code",
        "colab": {
          "base_uri": "https://localhost:8080/",
          "height": 102
        },
        "outputId": "6297a666-bb84-4c82-c21f-486ee5319d9f"
      },
      "source": [
        "np.dot(A,C)"
      ],
      "execution_count": 32,
      "outputs": [
        {
          "output_type": "execute_result",
          "data": {
            "text/plain": [
              "matrix([[ 134,  158,  182,  206,  230],\n",
              "        [ 478,  566,  654,  742,  830],\n",
              "        [ 822,  974, 1126, 1278, 1430],\n",
              "        [1166, 1382, 1598, 1814, 2030],\n",
              "        [1510, 1790, 2070, 2350, 2630]])"
            ]
          },
          "metadata": {
            "tags": []
          },
          "execution_count": 32
        }
      ]
    },
    {
      "cell_type": "markdown",
      "metadata": {
        "id": "pS9T6QJB6av_",
        "colab_type": "text"
      },
      "source": [
        "### Elementwise Multiplication\n",
        "* numpy.multiply() performs elementwise multiplication between two matrices\n",
        "* Syntax: numpy.multiply(matrix_1,matrix_2) \n",
        "\n",
        "\n",
        "\n",
        "\n",
        "\n",
        "\n",
        "\n",
        "\n"
      ]
    },
    {
      "cell_type": "code",
      "metadata": {
        "id": "dEMexX-o6UPb",
        "colab_type": "code",
        "colab": {
          "base_uri": "https://localhost:8080/",
          "height": 102
        },
        "outputId": "36a8e9ae-021d-46bf-c78b-b7719664bcb9"
      },
      "source": [
        "np.multiply(A,B)"
      ],
      "execution_count": 33,
      "outputs": [
        {
          "output_type": "execute_result",
          "data": {
            "text/plain": [
              "matrix([[  0,  21,  44,  69],\n",
              "        [ 96, 125, 156, 189],\n",
              "        [224, 261, 300, 341],\n",
              "        [384, 429, 476, 525],\n",
              "        [576, 629, 684, 741]])"
            ]
          },
          "metadata": {
            "tags": []
          },
          "execution_count": 33
        }
      ]
    },
    {
      "cell_type": "markdown",
      "metadata": {
        "id": "XQc6ECr37c9f",
        "colab_type": "text"
      },
      "source": [
        "### Matrix division\n",
        "* numpy.divide() performs elementwise division between two matrices\n",
        "* Syntax: numpy.divide(matrix_1,matrix_2) "
      ]
    },
    {
      "cell_type": "code",
      "metadata": {
        "id": "JxYo_ieW7Ez6",
        "colab_type": "code",
        "colab": {
          "base_uri": "https://localhost:8080/",
          "height": 102
        },
        "outputId": "4ab20993-41b8-4120-ea7c-b0993828a3b8"
      },
      "source": [
        "np.divide(A,B)"
      ],
      "execution_count": 34,
      "outputs": [
        {
          "output_type": "execute_result",
          "data": {
            "text/plain": [
              "matrix([[0.        , 0.04761905, 0.09090909, 0.13043478],\n",
              "        [0.16666667, 0.2       , 0.23076923, 0.25925926],\n",
              "        [0.28571429, 0.31034483, 0.33333333, 0.35483871],\n",
              "        [0.375     , 0.39393939, 0.41176471, 0.42857143],\n",
              "        [0.44444444, 0.45945946, 0.47368421, 0.48717949]])"
            ]
          },
          "metadata": {
            "tags": []
          },
          "execution_count": 34
        }
      ]
    },
    {
      "cell_type": "markdown",
      "metadata": {
        "id": "opx1eaQU8DTL",
        "colab_type": "text"
      },
      "source": [
        "## Summary\n",
        "  * Create matrix\n",
        "  * Matrix properties\n",
        "  * Modifying matrix\n",
        "  * Accessing element of matrix\n",
        "  * Matrix operations"
      ]
    }
  ]
}