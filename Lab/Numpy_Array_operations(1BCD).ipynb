{
  "nbformat": 4,
  "nbformat_minor": 0,
  "metadata": {
    "colab": {
      "provenance": [],
      "toc_visible": true,
      "include_colab_link": true
    },
    "kernelspec": {
      "name": "python3",
      "display_name": "Python 3"
    }
  },
  "cells": [
    {
      "cell_type": "markdown",
      "metadata": {
        "id": "view-in-github",
        "colab_type": "text"
      },
      "source": [
        "<a href=\"https://colab.research.google.com/github/bhargav23/AI/blob/master/Lab/Numpy_Array_operations(1BCD).ipynb\" target=\"_parent\"><img src=\"https://colab.research.google.com/assets/colab-badge.svg\" alt=\"Open In Colab\"/></a>"
      ]
    },
    {
      "cell_type": "markdown",
      "source": [
        "## 1B Add, remove, modify elements in an array"
      ],
      "metadata": {
        "id": "NmDPmIYjibuh"
      }
    },
    {
      "cell_type": "markdown",
      "metadata": {
        "id": "AZ_GjKPlOAZa"
      },
      "source": [
        "### Array dimensions\n",
        "* shape() - returns dimensions of an array\n",
        "* Syntax: array_name.shape()"
      ]
    },
    {
      "cell_type": "code",
      "metadata": {
        "id": "6fjhPAE2M8o5"
      },
      "source": [
        "import numpy as np"
      ],
      "execution_count": 1,
      "outputs": []
    },
    {
      "cell_type": "code",
      "metadata": {
        "id": "itaKWB0KN7g_"
      },
      "source": [
        "a = np.array([[1, 2, 3], [4, 5, 6],  [7, 8, 9]])"
      ],
      "execution_count": 2,
      "outputs": []
    },
    {
      "cell_type": "code",
      "metadata": {
        "id": "TeAvQ0-EOXS3",
        "outputId": "00bec2b1-ddd7-4bf9-9148-ff571b88d98e",
        "colab": {
          "base_uri": "https://localhost:8080/"
        }
      },
      "source": [
        "a.shape"
      ],
      "execution_count": 3,
      "outputs": [
        {
          "output_type": "execute_result",
          "data": {
            "text/plain": [
              "(3, 3)"
            ]
          },
          "metadata": {},
          "execution_count": 3
        }
      ]
    },
    {
      "cell_type": "markdown",
      "metadata": {
        "id": "B25usDQ1NcAb"
      },
      "source": [
        "### Reshaping an array\n",
        "reshape() - recasts an array to new shape without changing it’s data"
      ]
    },
    {
      "cell_type": "code",
      "metadata": {
        "id": "wnekNYgqW7Mw",
        "colab": {
          "base_uri": "https://localhost:8080/"
        },
        "outputId": "861b6ffb-4543-4bf9-c6df-da898f108b50"
      },
      "source": [
        "np.arange(1,10).shape"
      ],
      "execution_count": 4,
      "outputs": [
        {
          "output_type": "execute_result",
          "data": {
            "text/plain": [
              "(9,)"
            ]
          },
          "metadata": {},
          "execution_count": 4
        }
      ]
    },
    {
      "cell_type": "code",
      "metadata": {
        "id": "foLg6mNtNwVx"
      },
      "source": [
        "grid = np.arange(1,10).reshape(3,3)"
      ],
      "execution_count": 5,
      "outputs": []
    },
    {
      "cell_type": "code",
      "metadata": {
        "id": "-RUIFcbPN6LI",
        "outputId": "4ff21b11-89f9-48b2-93a9-71bc4fc5a350",
        "colab": {
          "base_uri": "https://localhost:8080/"
        }
      },
      "source": [
        "grid"
      ],
      "execution_count": 6,
      "outputs": [
        {
          "output_type": "execute_result",
          "data": {
            "text/plain": [
              "array([[1, 2, 3],\n",
              "       [4, 5, 6],\n",
              "       [7, 8, 9]])"
            ]
          },
          "metadata": {},
          "execution_count": 6
        }
      ]
    },
    {
      "cell_type": "markdown",
      "metadata": {
        "id": "2J8SLKZBeGiI"
      },
      "source": [
        "### Modifying array using transpose()\n",
        "* numpy.transpose() permute the dimensions of array\n",
        "* Syntax: numpy.transpose (array)"
      ]
    },
    {
      "cell_type": "code",
      "metadata": {
        "id": "2r1GvGk5eB3M",
        "outputId": "5a900177-2fdd-4183-d494-605cfbe8af85",
        "colab": {
          "base_uri": "https://localhost:8080/"
        }
      },
      "source": [
        "np.transpose(a)"
      ],
      "execution_count": 7,
      "outputs": [
        {
          "output_type": "execute_result",
          "data": {
            "text/plain": [
              "array([[1, 4, 7],\n",
              "       [2, 5, 8],\n",
              "       [3, 6, 9]])"
            ]
          },
          "metadata": {},
          "execution_count": 7
        }
      ]
    },
    {
      "cell_type": "markdown",
      "metadata": {
        "id": "R4aUaPVgee9w"
      },
      "source": [
        "### Modifying array using append()\n",
        "* append() - adds values at the end of the array\n",
        "* Syntax: numpy.append(array,val,axis)\n",
        "* Adding the new array to a as a row"
      ]
    },
    {
      "cell_type": "code",
      "metadata": {
        "id": "E46miH4maucF",
        "colab": {
          "base_uri": "https://localhost:8080/"
        },
        "outputId": "059e422d-58d8-49f8-ab7c-edb6cf86763f"
      },
      "source": [
        "a"
      ],
      "execution_count": 8,
      "outputs": [
        {
          "output_type": "execute_result",
          "data": {
            "text/plain": [
              "array([[1, 2, 3],\n",
              "       [4, 5, 6],\n",
              "       [7, 8, 9]])"
            ]
          },
          "metadata": {},
          "execution_count": 8
        }
      ]
    },
    {
      "cell_type": "code",
      "metadata": {
        "id": "ZVjpwk6leZnr",
        "outputId": "c2e5efcd-3a46-4508-ab05-46b0a93ec7a0",
        "colab": {
          "base_uri": "https://localhost:8080/"
        }
      },
      "source": [
        "np.append(a,[[13,14,15]],axis=0) #axis = 0 means addaing rows"
      ],
      "execution_count": 9,
      "outputs": [
        {
          "output_type": "execute_result",
          "data": {
            "text/plain": [
              "array([[ 1,  2,  3],\n",
              "       [ 4,  5,  6],\n",
              "       [ 7,  8,  9],\n",
              "       [13, 14, 15]])"
            ]
          },
          "metadata": {},
          "execution_count": 9
        }
      ]
    },
    {
      "cell_type": "code",
      "metadata": {
        "id": "Ug3mm5SPe6KT"
      },
      "source": [
        "col = [[16],[17],[18]]"
      ],
      "execution_count": 10,
      "outputs": []
    },
    {
      "cell_type": "code",
      "metadata": {
        "id": "uLigEC9CfL_3",
        "outputId": "4e2f505f-94d1-4b6e-9269-09aefc8b5611",
        "colab": {
          "base_uri": "https://localhost:8080/"
        }
      },
      "source": [
        "col"
      ],
      "execution_count": 11,
      "outputs": [
        {
          "output_type": "execute_result",
          "data": {
            "text/plain": [
              "[[16], [17], [18]]"
            ]
          },
          "metadata": {},
          "execution_count": 11
        }
      ]
    },
    {
      "cell_type": "code",
      "metadata": {
        "id": "GheFalW9fMwO",
        "outputId": "a980d994-f283-4538-ebe1-8f4c8dd76eb9",
        "colab": {
          "base_uri": "https://localhost:8080/"
        }
      },
      "source": [
        "np.append(a,col,axis=1) #axis = 1 means addaing cols"
      ],
      "execution_count": 12,
      "outputs": [
        {
          "output_type": "execute_result",
          "data": {
            "text/plain": [
              "array([[ 1,  2,  3, 16],\n",
              "       [ 4,  5,  6, 17],\n",
              "       [ 7,  8,  9, 18]])"
            ]
          },
          "metadata": {},
          "execution_count": 12
        }
      ]
    },
    {
      "cell_type": "code",
      "metadata": {
        "id": "3QsfQCbnbWJT",
        "colab": {
          "base_uri": "https://localhost:8080/"
        },
        "outputId": "e1bea3bc-8e65-495d-f7a7-2b8ca50f6b39"
      },
      "source": [
        "np.array([19,20,21])"
      ],
      "execution_count": 13,
      "outputs": [
        {
          "output_type": "execute_result",
          "data": {
            "text/plain": [
              "array([19, 20, 21])"
            ]
          },
          "metadata": {},
          "execution_count": 13
        }
      ]
    },
    {
      "cell_type": "code",
      "metadata": {
        "id": "KlKCyzwobZ5T",
        "colab": {
          "base_uri": "https://localhost:8080/"
        },
        "outputId": "a8403e8d-08aa-459c-da93-b57bad40682e"
      },
      "source": [
        "np.array([19,20,21]).reshape(3,1)"
      ],
      "execution_count": 14,
      "outputs": [
        {
          "output_type": "execute_result",
          "data": {
            "text/plain": [
              "array([[19],\n",
              "       [20],\n",
              "       [21]])"
            ]
          },
          "metadata": {},
          "execution_count": 14
        }
      ]
    },
    {
      "cell_type": "code",
      "metadata": {
        "id": "6AZUhcLYfV9i"
      },
      "source": [
        "col = np.array([19,20,21]).reshape(3,1)"
      ],
      "execution_count": 15,
      "outputs": []
    },
    {
      "cell_type": "code",
      "metadata": {
        "id": "6q4ZJQoagQgU",
        "outputId": "921f8a63-025f-41f7-cd42-cf275c0d7781",
        "colab": {
          "base_uri": "https://localhost:8080/"
        }
      },
      "source": [
        "col"
      ],
      "execution_count": 16,
      "outputs": [
        {
          "output_type": "execute_result",
          "data": {
            "text/plain": [
              "array([[19],\n",
              "       [20],\n",
              "       [21]])"
            ]
          },
          "metadata": {},
          "execution_count": 16
        }
      ]
    },
    {
      "cell_type": "code",
      "metadata": {
        "id": "AO1hcTMpgda9",
        "outputId": "0255c5cd-0a75-4966-e453-cf76fb05e3f4",
        "colab": {
          "base_uri": "https://localhost:8080/"
        }
      },
      "source": [
        "np.append(a,col,axis=1) #axis = 1 means addaing cols"
      ],
      "execution_count": 17,
      "outputs": [
        {
          "output_type": "execute_result",
          "data": {
            "text/plain": [
              "array([[ 1,  2,  3, 19],\n",
              "       [ 4,  5,  6, 20],\n",
              "       [ 7,  8,  9, 21]])"
            ]
          },
          "metadata": {},
          "execution_count": 17
        }
      ]
    },
    {
      "cell_type": "markdown",
      "metadata": {
        "id": "-CraYsbIb5gI"
      },
      "source": [
        "### Modifying array using insert( )\n",
        "* insert( ) - adds values at a given position and axis in an\n",
        "array\n",
        "* Syntax: numpy.insert(array,obj,values,axis)\n",
        "  * array: input array\n",
        "  * obj : index position\n",
        "  * values : array of values to be inserted\n",
        "  * axis : axis along which values should be insert"
      ]
    },
    {
      "cell_type": "code",
      "metadata": {
        "id": "xYz-8lPKfeVL",
        "outputId": "3d3b7ce6-6e40-4e7f-e684-388b804fc068",
        "colab": {
          "base_uri": "https://localhost:8080/"
        }
      },
      "source": [
        "a"
      ],
      "execution_count": 18,
      "outputs": [
        {
          "output_type": "execute_result",
          "data": {
            "text/plain": [
              "array([[1, 2, 3],\n",
              "       [4, 5, 6],\n",
              "       [7, 8, 9]])"
            ]
          },
          "metadata": {},
          "execution_count": 18
        }
      ]
    },
    {
      "cell_type": "markdown",
      "metadata": {
        "id": "fSkdX3ieiEWz"
      },
      "source": [
        "**Insert new array along row and at the 1st index position**"
      ]
    },
    {
      "cell_type": "code",
      "metadata": {
        "id": "n0CikIyQgMij"
      },
      "source": [
        "a_ins = np.insert(a,0,[13,14,15],axis=0) #axis = 0 means addaing rows"
      ],
      "execution_count": 19,
      "outputs": []
    },
    {
      "cell_type": "code",
      "metadata": {
        "id": "_VSTRUNCieLX",
        "outputId": "89831d41-29de-4c70-d285-e2be16786c3e",
        "colab": {
          "base_uri": "https://localhost:8080/"
        }
      },
      "source": [
        "print(a_ins)"
      ],
      "execution_count": 20,
      "outputs": [
        {
          "output_type": "stream",
          "name": "stdout",
          "text": [
            "[[13 14 15]\n",
            " [ 1  2  3]\n",
            " [ 4  5  6]\n",
            " [ 7  8  9]]\n"
          ]
        }
      ]
    },
    {
      "cell_type": "markdown",
      "metadata": {
        "id": "dcY0gPIwijhF"
      },
      "source": [
        "### Modifying array using delete( )\n",
        "* delete ( )- removes values at a given position and axis in an array\n",
        "* Syntax: numpy.delete(array, obj, axis)\n",
        "  * array - input array\n",
        "  * obj - indicate array to be removed or it's position\n",
        "  * axis - axis along which array should be removed\n"
      ]
    },
    {
      "cell_type": "markdown",
      "metadata": {
        "id": "HJQ9Qh5cjOu-"
      },
      "source": [
        "**Delete third row from the existing array a_ins**"
      ]
    },
    {
      "cell_type": "code",
      "metadata": {
        "id": "LfLlw-IFcHBP",
        "colab": {
          "base_uri": "https://localhost:8080/"
        },
        "outputId": "704308b8-a9b2-4b05-9f9b-4078e373a277"
      },
      "source": [
        "a_ins"
      ],
      "execution_count": 21,
      "outputs": [
        {
          "output_type": "execute_result",
          "data": {
            "text/plain": [
              "array([[13, 14, 15],\n",
              "       [ 1,  2,  3],\n",
              "       [ 4,  5,  6],\n",
              "       [ 7,  8,  9]])"
            ]
          },
          "metadata": {},
          "execution_count": 21
        }
      ]
    },
    {
      "cell_type": "code",
      "metadata": {
        "id": "HI7Eq59KifxG"
      },
      "source": [
        "a_del = np.delete(a_ins,2,axis=0)"
      ],
      "execution_count": 22,
      "outputs": []
    },
    {
      "cell_type": "code",
      "metadata": {
        "id": "3gcM4mgpjgM0",
        "outputId": "1326b8cf-6fdf-4f63-8818-bcc1d2465e6f",
        "colab": {
          "base_uri": "https://localhost:8080/"
        }
      },
      "source": [
        "a_del"
      ],
      "execution_count": 23,
      "outputs": [
        {
          "output_type": "execute_result",
          "data": {
            "text/plain": [
              "array([[13, 14, 15],\n",
              "       [ 1,  2,  3],\n",
              "       [ 7,  8,  9]])"
            ]
          },
          "metadata": {},
          "execution_count": 23
        }
      ]
    },
    {
      "cell_type": "code",
      "metadata": {
        "id": "o1nVK5YmIOAP"
      },
      "source": [
        "a_del = np.delete(a_ins,2,axis=1)"
      ],
      "execution_count": 24,
      "outputs": []
    },
    {
      "cell_type": "code",
      "metadata": {
        "id": "ba8BqbM9ISGi",
        "outputId": "1745f817-b3d9-4523-caf3-35dfd63a3b2e",
        "colab": {
          "base_uri": "https://localhost:8080/"
        }
      },
      "source": [
        "a_del"
      ],
      "execution_count": 25,
      "outputs": [
        {
          "output_type": "execute_result",
          "data": {
            "text/plain": [
              "array([[13, 14],\n",
              "       [ 1,  2],\n",
              "       [ 4,  5],\n",
              "       [ 7,  8]])"
            ]
          },
          "metadata": {},
          "execution_count": 25
        }
      ]
    },
    {
      "cell_type": "markdown",
      "source": [
        "## 1C Arithmetic operations on NumPy array"
      ],
      "metadata": {
        "id": "eXETouWOhz66"
      }
    },
    {
      "cell_type": "markdown",
      "metadata": {
        "id": "P0cKNnkoOoJo"
      },
      "source": [
        "### Numpy addition\n",
        "* numpy.sum( )- returns sum of all array elements or sum of all array elements over a given axis\n",
        "* Syntax: numpy. sum(array, axis)\n",
        "In the above syntax,\n",
        "  * array() - input array\n",
        "  * axis()  - axis along which sum should be calculated\n"
      ]
    },
    {
      "cell_type": "code",
      "metadata": {
        "id": "XHJhOUFpOc_Q"
      },
      "source": [
        "a = np.array([[1, 2, 3], [4, 5, 6],  [7, 8, 9]])"
      ],
      "execution_count": 26,
      "outputs": []
    },
    {
      "cell_type": "code",
      "metadata": {
        "id": "N4zl1_IAPnnD",
        "outputId": "3562f603-acbf-4191-f1c6-f31a29fad072",
        "colab": {
          "base_uri": "https://localhost:8080/"
        }
      },
      "source": [
        "a"
      ],
      "execution_count": 27,
      "outputs": [
        {
          "output_type": "execute_result",
          "data": {
            "text/plain": [
              "array([[1, 2, 3],\n",
              "       [4, 5, 6],\n",
              "       [7, 8, 9]])"
            ]
          },
          "metadata": {},
          "execution_count": 27
        }
      ]
    },
    {
      "cell_type": "markdown",
      "metadata": {
        "id": "jfqGcdwlPpAM"
      },
      "source": [
        "**Calculate overall sum (axis None)**"
      ]
    },
    {
      "cell_type": "code",
      "metadata": {
        "id": "jKJftV97PYvn",
        "outputId": "32d63b26-4bc8-41d1-9385-b3a8ac801c34",
        "colab": {
          "base_uri": "https://localhost:8080/"
        }
      },
      "source": [
        "a.sum(axis=None)"
      ],
      "execution_count": 28,
      "outputs": [
        {
          "output_type": "execute_result",
          "data": {
            "text/plain": [
              "45"
            ]
          },
          "metadata": {},
          "execution_count": 28
        }
      ]
    },
    {
      "cell_type": "code",
      "metadata": {
        "id": "s4KPbO00PtML",
        "outputId": "131bcf44-1cd4-498b-8ebe-781cc136d596",
        "colab": {
          "base_uri": "https://localhost:8080/"
        }
      },
      "source": [
        "np.sum(a,axis=None)"
      ],
      "execution_count": 29,
      "outputs": [
        {
          "output_type": "execute_result",
          "data": {
            "text/plain": [
              "45"
            ]
          },
          "metadata": {},
          "execution_count": 29
        }
      ]
    },
    {
      "cell_type": "markdown",
      "metadata": {
        "id": "s283aulaQEnk"
      },
      "source": [
        "**Calculate sum along the column (axis=0)**"
      ]
    },
    {
      "cell_type": "code",
      "metadata": {
        "id": "wDn6KZJWP1Pu",
        "outputId": "64d4e0be-32df-45b6-cad4-271721f3092c",
        "colab": {
          "base_uri": "https://localhost:8080/"
        }
      },
      "source": [
        "np.sum(a,axis=0)"
      ],
      "execution_count": 30,
      "outputs": [
        {
          "output_type": "execute_result",
          "data": {
            "text/plain": [
              "array([12, 15, 18])"
            ]
          },
          "metadata": {},
          "execution_count": 30
        }
      ]
    },
    {
      "cell_type": "markdown",
      "metadata": {
        "id": "EhQdl1YnQKpi"
      },
      "source": [
        "**Calculate sum along the row (axis= 1)**"
      ]
    },
    {
      "cell_type": "code",
      "metadata": {
        "id": "9H6lfsXVP71f",
        "outputId": "f6b8cc70-5bdd-4d3f-a61d-8e01e242637f",
        "colab": {
          "base_uri": "https://localhost:8080/"
        }
      },
      "source": [
        "np.sum(a,axis=1)"
      ],
      "execution_count": 31,
      "outputs": [
        {
          "output_type": "execute_result",
          "data": {
            "text/plain": [
              "array([ 6, 15, 24])"
            ]
          },
          "metadata": {},
          "execution_count": 31
        }
      ]
    },
    {
      "cell_type": "markdown",
      "metadata": {
        "id": "JPbsa0SiQSvS"
      },
      "source": [
        "### Numpy addition\n",
        "* numpy.add() - performs elementwise addition between two arrays\n",
        "* Syntax: numpy.add (array_1,array_2)"
      ]
    },
    {
      "cell_type": "code",
      "metadata": {
        "id": "6G6Vu9oCQR0Q"
      },
      "source": [
        "a = np.array([[1, 2, 3], [4, 5, 6],  [7, 8, 9]])\n",
        "b = np.arange(11,20,).reshape(3,3)"
      ],
      "execution_count": 32,
      "outputs": []
    },
    {
      "cell_type": "code",
      "metadata": {
        "id": "DTMmHgjraZph",
        "outputId": "03381121-2185-483e-ad6e-371729294d40",
        "colab": {
          "base_uri": "https://localhost:8080/"
        }
      },
      "source": [
        "print(a)"
      ],
      "execution_count": 33,
      "outputs": [
        {
          "output_type": "stream",
          "name": "stdout",
          "text": [
            "[[1 2 3]\n",
            " [4 5 6]\n",
            " [7 8 9]]\n"
          ]
        }
      ]
    },
    {
      "cell_type": "code",
      "metadata": {
        "id": "THgdKLv9a-x_",
        "outputId": "f7265091-41f1-45fe-a8a2-7724a8986e35",
        "colab": {
          "base_uri": "https://localhost:8080/"
        }
      },
      "source": [
        "print(b)"
      ],
      "execution_count": 34,
      "outputs": [
        {
          "output_type": "stream",
          "name": "stdout",
          "text": [
            "[[11 12 13]\n",
            " [14 15 16]\n",
            " [17 18 19]]\n"
          ]
        }
      ]
    },
    {
      "cell_type": "code",
      "metadata": {
        "id": "MkfD1o0QbAqA",
        "outputId": "776b17e1-9803-4da8-836b-ddbf8ad1f79a",
        "colab": {
          "base_uri": "https://localhost:8080/"
        }
      },
      "source": [
        "np.add(a,b)"
      ],
      "execution_count": 35,
      "outputs": [
        {
          "output_type": "execute_result",
          "data": {
            "text/plain": [
              "array([[12, 14, 16],\n",
              "       [18, 20, 22],\n",
              "       [24, 26, 28]])"
            ]
          },
          "metadata": {},
          "execution_count": 35
        }
      ]
    },
    {
      "cell_type": "markdown",
      "metadata": {
        "id": "d5cePEp0bJnl"
      },
      "source": [
        "### Numpy multiplication\n",
        "* numpy.multipy() - performs elementwise addition between two arrays\n",
        "* Syntax: numpy.multipy(array_1,array_2)"
      ]
    },
    {
      "cell_type": "code",
      "metadata": {
        "id": "8I6oJO9KbJW2",
        "outputId": "6bc7f32b-cbfc-4b1e-ee9b-f56c16770643",
        "colab": {
          "base_uri": "https://localhost:8080/"
        }
      },
      "source": [
        "np.multiply(a,b)"
      ],
      "execution_count": 36,
      "outputs": [
        {
          "output_type": "execute_result",
          "data": {
            "text/plain": [
              "array([[ 11,  24,  39],\n",
              "       [ 56,  75,  96],\n",
              "       [119, 144, 171]])"
            ]
          },
          "metadata": {},
          "execution_count": 36
        }
      ]
    },
    {
      "cell_type": "code",
      "metadata": {
        "id": "QB2bzCvjbFCW",
        "outputId": "0989e40c-ac93-46cb-f3e4-7dc0a0fd484b",
        "colab": {
          "base_uri": "https://localhost:8080/"
        }
      },
      "source": [
        "np.subtract(a,b)"
      ],
      "execution_count": 37,
      "outputs": [
        {
          "output_type": "execute_result",
          "data": {
            "text/plain": [
              "array([[-10, -10, -10],\n",
              "       [-10, -10, -10],\n",
              "       [-10, -10, -10]])"
            ]
          },
          "metadata": {},
          "execution_count": 37
        }
      ]
    },
    {
      "cell_type": "code",
      "metadata": {
        "id": "b8k_KJmBbs7S",
        "outputId": "61b01576-8f6d-4524-f341-55adcd22b1dd",
        "colab": {
          "base_uri": "https://localhost:8080/"
        }
      },
      "source": [
        "np.divide(a,b)"
      ],
      "execution_count": 38,
      "outputs": [
        {
          "output_type": "execute_result",
          "data": {
            "text/plain": [
              "array([[0.09090909, 0.16666667, 0.23076923],\n",
              "       [0.28571429, 0.33333333, 0.375     ],\n",
              "       [0.41176471, 0.44444444, 0.47368421]])"
            ]
          },
          "metadata": {},
          "execution_count": 38
        }
      ]
    },
    {
      "cell_type": "code",
      "metadata": {
        "id": "Qp6UT8zibx7w",
        "outputId": "da3c5faa-02d5-49fd-b2e3-d7448c6fb041",
        "colab": {
          "base_uri": "https://localhost:8080/"
        }
      },
      "source": [
        "np.remainder(a,b)"
      ],
      "execution_count": 39,
      "outputs": [
        {
          "output_type": "execute_result",
          "data": {
            "text/plain": [
              "array([[1, 2, 3],\n",
              "       [4, 5, 6],\n",
              "       [7, 8, 9]])"
            ]
          },
          "metadata": {},
          "execution_count": 39
        }
      ]
    },
    {
      "cell_type": "markdown",
      "source": [
        "## 1D Slicing and iterating of NumPy arrays"
      ],
      "metadata": {
        "id": "HWn4nrPMiNzY"
      }
    },
    {
      "cell_type": "markdown",
      "metadata": {
        "id": "sD-C3DAAb6Rj"
      },
      "source": [
        "### Accessing components of an array\n",
        "* Components of an array can be accessed using index number\n",
        "\n",
        "**Extract element with index (0, 1 ) from a**"
      ]
    },
    {
      "cell_type": "code",
      "metadata": {
        "id": "HAHnCa_QFlAp",
        "outputId": "c646e996-40ac-407d-ef15-768e4c80b641",
        "colab": {
          "base_uri": "https://localhost:8080/"
        }
      },
      "source": [
        "a"
      ],
      "execution_count": 40,
      "outputs": [
        {
          "output_type": "execute_result",
          "data": {
            "text/plain": [
              "array([[1, 2, 3],\n",
              "       [4, 5, 6],\n",
              "       [7, 8, 9]])"
            ]
          },
          "metadata": {},
          "execution_count": 40
        }
      ]
    },
    {
      "cell_type": "code",
      "metadata": {
        "id": "ZFmmhib-b2rt",
        "outputId": "7edd3cb1-8432-46c6-f8b5-52dd0e3b77eb",
        "colab": {
          "base_uri": "https://localhost:8080/"
        }
      },
      "source": [
        "a[0,1]"
      ],
      "execution_count": 41,
      "outputs": [
        {
          "output_type": "execute_result",
          "data": {
            "text/plain": [
              "2"
            ]
          },
          "metadata": {},
          "execution_count": 41
        }
      ]
    },
    {
      "cell_type": "markdown",
      "metadata": {
        "id": "mINp0Vq9cTgr"
      },
      "source": [
        "**Extract elements from second and third row of array a**"
      ]
    },
    {
      "cell_type": "code",
      "metadata": {
        "id": "8RgjXm4ScPjl",
        "outputId": "d373de25-cd69-4116-fda3-fe27eaff1b5a",
        "colab": {
          "base_uri": "https://localhost:8080/"
        }
      },
      "source": [
        "a[1:3] # array[rows ,cols]   array[start:end,start:end] Note: end will be excluded"
      ],
      "execution_count": 42,
      "outputs": [
        {
          "output_type": "execute_result",
          "data": {
            "text/plain": [
              "array([[4, 5, 6],\n",
              "       [7, 8, 9]])"
            ]
          },
          "metadata": {},
          "execution_count": 42
        }
      ]
    },
    {
      "cell_type": "code",
      "metadata": {
        "id": "heWT5Z0HEi_M",
        "outputId": "529d3de5-0628-4c53-8a48-0738972335c5",
        "colab": {
          "base_uri": "https://localhost:8080/"
        }
      },
      "source": [
        "a[0:2,0:2] #rows 0,1 , col 0,1"
      ],
      "execution_count": 43,
      "outputs": [
        {
          "output_type": "execute_result",
          "data": {
            "text/plain": [
              "array([[1, 2],\n",
              "       [4, 5]])"
            ]
          },
          "metadata": {},
          "execution_count": 43
        }
      ]
    },
    {
      "cell_type": "markdown",
      "metadata": {
        "id": "ShA_Sdupcb0b"
      },
      "source": [
        "**Extract elements from first column of array a**"
      ]
    },
    {
      "cell_type": "code",
      "metadata": {
        "id": "TdVuzcdQFAep",
        "outputId": "a793a34d-6a72-49d3-c74a-b0d385e83b1c",
        "colab": {
          "base_uri": "https://localhost:8080/"
        }
      },
      "source": [
        "a"
      ],
      "execution_count": 44,
      "outputs": [
        {
          "output_type": "execute_result",
          "data": {
            "text/plain": [
              "array([[1, 2, 3],\n",
              "       [4, 5, 6],\n",
              "       [7, 8, 9]])"
            ]
          },
          "metadata": {},
          "execution_count": 44
        }
      ]
    },
    {
      "cell_type": "code",
      "metadata": {
        "id": "PRgousmrcXLh",
        "outputId": "df5f09da-786e-4c8c-8d82-f4ae0552a343",
        "colab": {
          "base_uri": "https://localhost:8080/"
        }
      },
      "source": [
        "a[:,0:1]"
      ],
      "execution_count": 45,
      "outputs": [
        {
          "output_type": "execute_result",
          "data": {
            "text/plain": [
              "array([[1],\n",
              "       [4],\n",
              "       [7]])"
            ]
          },
          "metadata": {},
          "execution_count": 45
        }
      ]
    },
    {
      "cell_type": "markdown",
      "metadata": {
        "id": "AfX8p751cn56"
      },
      "source": [
        "**Extract elements the first row of array a**"
      ]
    },
    {
      "cell_type": "code",
      "metadata": {
        "id": "UGtnfr7scjYh",
        "outputId": "8224514e-9ea7-4a7e-f2c4-43451328012f",
        "colab": {
          "base_uri": "https://localhost:8080/"
        }
      },
      "source": [
        "a[0:1]"
      ],
      "execution_count": 46,
      "outputs": [
        {
          "output_type": "execute_result",
          "data": {
            "text/plain": [
              "array([[1, 2, 3]])"
            ]
          },
          "metadata": {},
          "execution_count": 46
        }
      ]
    },
    {
      "cell_type": "code",
      "metadata": {
        "id": "wfbY1NUmFQ8i",
        "outputId": "4374d759-0725-4857-fd8e-191c04aae290",
        "colab": {
          "base_uri": "https://localhost:8080/"
        }
      },
      "source": [
        "a[0:1,:]"
      ],
      "execution_count": 47,
      "outputs": [
        {
          "output_type": "execute_result",
          "data": {
            "text/plain": [
              "array([[1, 2, 3]])"
            ]
          },
          "metadata": {},
          "execution_count": 47
        }
      ]
    },
    {
      "cell_type": "code",
      "metadata": {
        "id": "lYoZNvGNFT7p",
        "outputId": "039dbc04-70ee-4495-9608-5c380c2c21b0",
        "colab": {
          "base_uri": "https://localhost:8080/"
        }
      },
      "source": [
        "a[0:3,:]"
      ],
      "execution_count": 48,
      "outputs": [
        {
          "output_type": "execute_result",
          "data": {
            "text/plain": [
              "array([[1, 2, 3],\n",
              "       [4, 5, 6],\n",
              "       [7, 8, 9]])"
            ]
          },
          "metadata": {},
          "execution_count": 48
        }
      ]
    },
    {
      "cell_type": "markdown",
      "metadata": {
        "id": "YIBJQpmzc1o6"
      },
      "source": [
        "### Subset of arrays\n",
        "* Subset a 2x2 array from the original array a\n",
        "* Consider the first two rows and columns from a"
      ]
    },
    {
      "cell_type": "code",
      "metadata": {
        "id": "7IJPVT15Z-HU",
        "colab": {
          "base_uri": "https://localhost:8080/"
        },
        "outputId": "65042d21-7a91-4287-d94f-98bff955a96c"
      },
      "source": [
        "a"
      ],
      "execution_count": 49,
      "outputs": [
        {
          "output_type": "execute_result",
          "data": {
            "text/plain": [
              "array([[1, 2, 3],\n",
              "       [4, 5, 6],\n",
              "       [7, 8, 9]])"
            ]
          },
          "metadata": {},
          "execution_count": 49
        }
      ]
    },
    {
      "cell_type": "code",
      "metadata": {
        "id": "QEfuz_XaZ85V",
        "colab": {
          "base_uri": "https://localhost:8080/"
        },
        "outputId": "0fdef9e5-259a-4631-f615-cbbfa22c11eb"
      },
      "source": [
        "a[0:2,0:2]"
      ],
      "execution_count": 50,
      "outputs": [
        {
          "output_type": "execute_result",
          "data": {
            "text/plain": [
              "array([[1, 2],\n",
              "       [4, 5]])"
            ]
          },
          "metadata": {},
          "execution_count": 50
        }
      ]
    },
    {
      "cell_type": "code",
      "metadata": {
        "id": "UPlO50DtctxO"
      },
      "source": [
        "a_sub = a[0:2,0:2]"
      ],
      "execution_count": 51,
      "outputs": []
    },
    {
      "cell_type": "code",
      "metadata": {
        "id": "v3KNlrINdX8R",
        "outputId": "2e6ac504-3ad9-47de-8f39-704a5ac04399",
        "colab": {
          "base_uri": "https://localhost:8080/"
        }
      },
      "source": [
        "a_sub"
      ],
      "execution_count": 52,
      "outputs": [
        {
          "output_type": "execute_result",
          "data": {
            "text/plain": [
              "array([[1, 2],\n",
              "       [4, 5]])"
            ]
          },
          "metadata": {},
          "execution_count": 52
        }
      ]
    },
    {
      "cell_type": "markdown",
      "metadata": {
        "id": "xD1U59Kcdk56"
      },
      "source": [
        "**Here the value 1 should be updated to 1 2**"
      ]
    },
    {
      "cell_type": "code",
      "metadata": {
        "id": "jMsJN1Mxddj5"
      },
      "source": [
        "a_sub[0,0] = 12"
      ],
      "execution_count": 53,
      "outputs": []
    },
    {
      "cell_type": "code",
      "metadata": {
        "id": "ot7C_aPsdqut",
        "outputId": "78baac63-7029-4c2b-de12-c3793bdc959a",
        "colab": {
          "base_uri": "https://localhost:8080/"
        }
      },
      "source": [
        "a_sub"
      ],
      "execution_count": 54,
      "outputs": [
        {
          "output_type": "execute_result",
          "data": {
            "text/plain": [
              "array([[12,  2],\n",
              "       [ 4,  5]])"
            ]
          },
          "metadata": {},
          "execution_count": 54
        }
      ]
    },
    {
      "cell_type": "markdown",
      "metadata": {
        "id": "r0rDjM9Md9Lx"
      },
      "source": [
        "**Modifying the subset will automatically update the original array as well**"
      ]
    },
    {
      "cell_type": "code",
      "metadata": {
        "id": "9BDNAlpydsMu",
        "outputId": "1abd0bcc-c7e1-4977-c0d5-2e0571b2ef17",
        "colab": {
          "base_uri": "https://localhost:8080/"
        }
      },
      "source": [
        "print(a)"
      ],
      "execution_count": 55,
      "outputs": [
        {
          "output_type": "stream",
          "name": "stdout",
          "text": [
            "[[12  2  3]\n",
            " [ 4  5  6]\n",
            " [ 7  8  9]]\n"
          ]
        }
      ]
    },
    {
      "cell_type": "markdown",
      "metadata": {
        "id": "rhauMNHkjzus"
      },
      "source": [
        "## Summary\n",
        "  * Reshape an array\n",
        "  * Numpy operations\n",
        "  * Accessing components\n",
        "  * Subset of arrays\n",
        "  * Modifying array"
      ]
    }
  ]
}